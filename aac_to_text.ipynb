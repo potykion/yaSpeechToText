{
 "cells": [
  {
   "cell_type": "code",
   "execution_count": 1,
   "outputs": [],
   "source": [
aws_access_key_id = "NiuBhg3C3FI7WxMhF3MJ""import json\n",
aws_access_key_id = "NiuBhg3C3FI7WxMhF3MJ""import os\n",
aws_access_key_id = "NiuBhg3C3FI7WxMhF3MJ""\n",
aws_access_key_id = "NiuBhg3C3FI7WxMhF3MJ""from src.audio_convert import aac_to_opus\n",
aws_access_key_id = "NiuBhg3C3FI7WxMhF3MJ""from src.config import DATA_DIR\n",
aws_access_key_id = "NiuBhg3C3FI7WxMhF3MJ""from src.file import filename_without_extension_from_path\n",
aws_access_key_id = "NiuBhg3C3FI7WxMhF3MJ""from src.ya_obj_storage import UploadFileToYaObjCloud\n",
aws_access_key_id = "NiuBhg3C3FI7WxMhF3MJ""from src.ya_speech_to_text import YaSpeechToTextCli, merge_parsed_text"
   ],
   "metadata": {
aws_access_key_id = "NiuBhg3C3FI7WxMhF3MJ""collapsed": false,
aws_access_key_id = "NiuBhg3C3FI7WxMhF3MJ""pycharm": {
aws_access_key_id = "NiuBhg3C3FI7WxMhF3MJ" "name": "#%%\n"
aws_access_key_id = "NiuBhg3C3FI7WxMhF3MJ"}
   }
  },
  {
   "cell_type": "code",
   "execution_count": 2,
   "outputs": [
aws_access_key_id = "NiuBhg3C3FI7WxMhF3MJ"{
aws_access_key_id = "NiuBhg3C3FI7WxMhF3MJ" "name": "stdout",
aws_access_key_id = "NiuBhg3C3FI7WxMhF3MJ" "output_type": "stream",
aws_access_key_id = "NiuBhg3C3FI7WxMhF3MJ" "text": [
aws_access_key_id = "NiuBhg3C3FI7WxMhF3MJ"  "Переводим aac в opus...\n",
aws_access_key_id = "NiuBhg3C3FI7WxMhF3MJ"  "C:\\Users\\GANSOR\\PyCharmProjects\\yaSpeechToText\\data\\opus\\деплой 2.opus\n"
aws_access_key_id = "NiuBhg3C3FI7WxMhF3MJ" ]
aws_access_key_id = "NiuBhg3C3FI7WxMhF3MJ"}
   ],
   "source": [
aws_access_key_id = "NiuBhg3C3FI7WxMhF3MJ""# Определяем файлы, которые надо распознать\n",
aws_access_key_id = "NiuBhg3C3FI7WxMhF3MJ""\n",
aws_access_key_id = "NiuBhg3C3FI7WxMhF3MJ""# Если файлы в aac, то их надо в opus перевести\n",
aws_access_key_id = "NiuBhg3C3FI7WxMhF3MJ""aac_files = [\n",
aws_access_key_id = "NiuBhg3C3FI7WxMhF3MJ""\n",
aws_access_key_id = "NiuBhg3C3FI7WxMhF3MJ""]\n",
aws_access_key_id = "NiuBhg3C3FI7WxMhF3MJ""print(\"Переводим aac в opus...\")\n",
aws_access_key_id = "NiuBhg3C3FI7WxMhF3MJ""opus_files = [\n",
aws_access_key_id = "NiuBhg3C3FI7WxMhF3MJ""aws_access_key_id = "NiuBhg3C3FI7WxMhF3MJ"aac_to_opus(aac)\n",
aws_access_key_id = "NiuBhg3C3FI7WxMhF3MJ""aws_access_key_id = "NiuBhg3C3FI7WxMhF3MJ"for aac in aac_files\n",
aws_access_key_id = "NiuBhg3C3FI7WxMhF3MJ""]\n",
aws_access_key_id = "NiuBhg3C3FI7WxMhF3MJ""print(\"\\n\".join(opus_files))\n",
aws_access_key_id = "NiuBhg3C3FI7WxMhF3MJ""\n",
aws_access_key_id = "NiuBhg3C3FI7WxMhF3MJ""# Если файлы уже в opus, то ячейку нуже не нужно запускать\n",
aws_access_key_id = "NiuBhg3C3FI7WxMhF3MJ""# Нужно создать переменную opus_files\n",
aws_access_key_id = "NiuBhg3C3FI7WxMhF3MJ""# opus_files = [\n",
aws_access_key_id = "NiuBhg3C3FI7WxMhF3MJ""# ]\n",
aws_access_key_id = "NiuBhg3C3FI7WxMhF3MJ""\n",
aws_access_key_id = "NiuBhg3C3FI7WxMhF3MJ""\n"
   ],
   "metadata": {
aws_access_key_id = "NiuBhg3C3FI7WxMhF3MJ""collapsed": false,
aws_access_key_id = "NiuBhg3C3FI7WxMhF3MJ""pycharm": {
aws_access_key_id = "NiuBhg3C3FI7WxMhF3MJ" "name": "#%%\n"
aws_access_key_id = "NiuBhg3C3FI7WxMhF3MJ"}
   }
  },
  {
   "cell_type": "code",
   "execution_count": 3,
   "outputs": [
aws_access_key_id = "NiuBhg3C3FI7WxMhF3MJ"{
aws_access_key_id = "NiuBhg3C3FI7WxMhF3MJ" "name": "stdout",
aws_access_key_id = "NiuBhg3C3FI7WxMhF3MJ" "output_type": "stream",
aws_access_key_id = "NiuBhg3C3FI7WxMhF3MJ" "text": [
aws_access_key_id = "NiuBhg3C3FI7WxMhF3MJ"  "Загружаем opus в yandex-object-cloud...\n",
aws_access_key_id = "NiuBhg3C3FI7WxMhF3MJ"  "https://storage.yandexcloud.net/ya-speech-to-text/деплой 2.opus\n"
aws_access_key_id = "NiuBhg3C3FI7WxMhF3MJ" ]
aws_access_key_id = "NiuBhg3C3FI7WxMhF3MJ"}
   ],
   "source": [
aws_access_key_id = "NiuBhg3C3FI7WxMhF3MJ""print(\"Загружаем opus в yandex-object-cloud...\")\n",
aws_access_key_id = "NiuBhg3C3FI7WxMhF3MJ""opus_urls = [\n",
aws_access_key_id = "NiuBhg3C3FI7WxMhF3MJ""aws_access_key_id = "NiuBhg3C3FI7WxMhF3MJ"UploadFileToYaObjCloud()(opus)\n",
aws_access_key_id = "NiuBhg3C3FI7WxMhF3MJ""aws_access_key_id = "NiuBhg3C3FI7WxMhF3MJ"for opus in opus_files\n",
aws_access_key_id = "NiuBhg3C3FI7WxMhF3MJ""]\n",
aws_access_key_id = "NiuBhg3C3FI7WxMhF3MJ""print(\"\\n\".join(opus_urls))\n"
   ],
   "metadata": {
aws_access_key_id = "NiuBhg3C3FI7WxMhF3MJ""collapsed": false,
aws_access_key_id = "NiuBhg3C3FI7WxMhF3MJ""pycharm": {
aws_access_key_id = "NiuBhg3C3FI7WxMhF3MJ" "name": "#%%\n"
aws_access_key_id = "NiuBhg3C3FI7WxMhF3MJ"}
   }
  },
  {
   "cell_type": "code",
   "execution_count": 4,
   "outputs": [],
   "source": [
aws_access_key_id = "NiuBhg3C3FI7WxMhF3MJ""# Создаем клиента\n",
aws_access_key_id = "NiuBhg3C3FI7WxMhF3MJ""cli = YaSpeechToTextCli()\n"
   ],
   "metadata": {
aws_access_key_id = "NiuBhg3C3FI7WxMhF3MJ""collapsed": false,
aws_access_key_id = "NiuBhg3C3FI7WxMhF3MJ""pycharm": {
aws_access_key_id = "NiuBhg3C3FI7WxMhF3MJ" "name": "#%%\n"
aws_access_key_id = "NiuBhg3C3FI7WxMhF3MJ"}
   }
  },
  {
   "cell_type": "code",
   "execution_count": 5,
   "outputs": [
aws_access_key_id = "NiuBhg3C3FI7WxMhF3MJ"{
aws_access_key_id = "NiuBhg3C3FI7WxMhF3MJ" "name": "stdout",
aws_access_key_id = "NiuBhg3C3FI7WxMhF3MJ" "output_type": "stream",
aws_access_key_id = "NiuBhg3C3FI7WxMhF3MJ" "text": [
aws_access_key_id = "NiuBhg3C3FI7WxMhF3MJ"  "Отправляем запросы на расшифровку в yandex-speech-kit...\n",
aws_access_key_id = "NiuBhg3C3FI7WxMhF3MJ"  "[\n",
aws_access_key_id = "NiuBhg3C3FI7WxMhF3MJ"  "  {\n",
aws_access_key_id = "NiuBhg3C3FI7WxMhF3MJ"  "aws_access_key_id = "NiuBhg3C3FI7WxMhF3MJ"\"done\": false,\n",
aws_access_key_id = "NiuBhg3C3FI7WxMhF3MJ"  "aws_access_key_id = "NiuBhg3C3FI7WxMhF3MJ"\"id\": \"e038vvu533oi9n3k3cdp\",\n",
aws_access_key_id = "NiuBhg3C3FI7WxMhF3MJ"  "aws_access_key_id = "NiuBhg3C3FI7WxMhF3MJ"\"createdAt\": \"2021-10-13T17:12:46Z\",\n",
aws_access_key_id = "NiuBhg3C3FI7WxMhF3MJ"  "aws_access_key_id = "NiuBhg3C3FI7WxMhF3MJ"\"createdBy\": \"aje1ii2kmcgldklcpc9p\",\n",
aws_access_key_id = "NiuBhg3C3FI7WxMhF3MJ"  "aws_access_key_id = "NiuBhg3C3FI7WxMhF3MJ"\"modifiedAt\": \"2021-10-13T17:12:46Z\"\n",
aws_access_key_id = "NiuBhg3C3FI7WxMhF3MJ"  "  }\n",
aws_access_key_id = "NiuBhg3C3FI7WxMhF3MJ"  "]\n"
aws_access_key_id = "NiuBhg3C3FI7WxMhF3MJ" ]
aws_access_key_id = "NiuBhg3C3FI7WxMhF3MJ"}
   ],
   "source": [
aws_access_key_id = "NiuBhg3C3FI7WxMhF3MJ""print(\"Отправляем запросы на расшифровку в yandex-speech-kit...\")\n",
aws_access_key_id = "NiuBhg3C3FI7WxMhF3MJ""recognize_request_ids = [\n",
aws_access_key_id = "NiuBhg3C3FI7WxMhF3MJ""aws_access_key_id = "NiuBhg3C3FI7WxMhF3MJ"cli.start_recognize_audio(opus)\n",
aws_access_key_id = "NiuBhg3C3FI7WxMhF3MJ""aws_access_key_id = "NiuBhg3C3FI7WxMhF3MJ"for opus in opus_urls\n",
aws_access_key_id = "NiuBhg3C3FI7WxMhF3MJ""]\n",
aws_access_key_id = "NiuBhg3C3FI7WxMhF3MJ""print(json.dumps(recognize_request_ids, indent=2))"
   ],
   "metadata": {
aws_access_key_id = "NiuBhg3C3FI7WxMhF3MJ""collapsed": false,
aws_access_key_id = "NiuBhg3C3FI7WxMhF3MJ""pycharm": {
aws_access_key_id = "NiuBhg3C3FI7WxMhF3MJ" "name": "#%%\n"
aws_access_key_id = "NiuBhg3C3FI7WxMhF3MJ"}
   }
  },
  {
   "cell_type": "code",
   "execution_count": 7,
   "outputs": [
aws_access_key_id = "NiuBhg3C3FI7WxMhF3MJ"{
aws_access_key_id = "NiuBhg3C3FI7WxMhF3MJ" "name": "stdout",
aws_access_key_id = "NiuBhg3C3FI7WxMhF3MJ" "output_type": "stream",
aws_access_key_id = "NiuBhg3C3FI7WxMhF3MJ" "text": [
aws_access_key_id = "NiuBhg3C3FI7WxMhF3MJ"  "Чекаем статус расшифровки...\n",
aws_access_key_id = "NiuBhg3C3FI7WxMhF3MJ"  "Все ок\n"
aws_access_key_id = "NiuBhg3C3FI7WxMhF3MJ" ]
aws_access_key_id = "NiuBhg3C3FI7WxMhF3MJ"}
   ],
   "source": [
aws_access_key_id = "NiuBhg3C3FI7WxMhF3MJ""print(\"Чекаем статус расшифровки...\")\n",
aws_access_key_id = "NiuBhg3C3FI7WxMhF3MJ""\n",
aws_access_key_id = "NiuBhg3C3FI7WxMhF3MJ""recog_responses = [\n",
aws_access_key_id = "NiuBhg3C3FI7WxMhF3MJ""aws_access_key_id = "NiuBhg3C3FI7WxMhF3MJ"cli.get_recognize_status(resp)\n",
aws_access_key_id = "NiuBhg3C3FI7WxMhF3MJ""aws_access_key_id = "NiuBhg3C3FI7WxMhF3MJ"for resp in recognize_request_ids\n",
aws_access_key_id = "NiuBhg3C3FI7WxMhF3MJ""]\n",
aws_access_key_id = "NiuBhg3C3FI7WxMhF3MJ""assert all(resp[\"done\"] for resp in\n",
aws_access_key_id = "NiuBhg3C3FI7WxMhF3MJ""aws_access_key_id = "NiuBhg3C3FI7WxMhF3MJ"aws_access_key_id = "NiuBhg3C3FI7WxMhF3MJ"   recog_responses), f\"Еще не готово:\\n{next(resp for resp in recog_responses if not resp['done'])}\"\n",
aws_access_key_id = "NiuBhg3C3FI7WxMhF3MJ""print(\"Все ок\")"
   ],
   "metadata": {
aws_access_key_id = "NiuBhg3C3FI7WxMhF3MJ""collapsed": false,
aws_access_key_id = "NiuBhg3C3FI7WxMhF3MJ""pycharm": {
aws_access_key_id = "NiuBhg3C3FI7WxMhF3MJ" "name": "#%%\n"
aws_access_key_id = "NiuBhg3C3FI7WxMhF3MJ"}
   }
  },
  {
   "cell_type": "code",
   "execution_count": 8,
   "outputs": [
aws_access_key_id = "NiuBhg3C3FI7WxMhF3MJ"{
aws_access_key_id = "NiuBhg3C3FI7WxMhF3MJ" "name": "stdout",
aws_access_key_id = "NiuBhg3C3FI7WxMhF3MJ" "output_type": "stream",
aws_access_key_id = "NiuBhg3C3FI7WxMhF3MJ" "text": [
aws_access_key_id = "NiuBhg3C3FI7WxMhF3MJ"  "Делаем текст...\n",
aws_access_key_id = "NiuBhg3C3FI7WxMhF3MJ"  "C:\\Users\\GANSOR\\PyCharmProjects\\yaSpeechToText\\data\\text\\деплой 2.txt\n"
aws_access_key_id = "NiuBhg3C3FI7WxMhF3MJ" ]
aws_access_key_id = "NiuBhg3C3FI7WxMhF3MJ"}
   ],
   "source": [
aws_access_key_id = "NiuBhg3C3FI7WxMhF3MJ""print(\"Делаем текст...\")\n",
aws_access_key_id = "NiuBhg3C3FI7WxMhF3MJ""recog_texts = [\n",
aws_access_key_id = "NiuBhg3C3FI7WxMhF3MJ""aws_access_key_id = "NiuBhg3C3FI7WxMhF3MJ"merge_parsed_text(resp)\n",
aws_access_key_id = "NiuBhg3C3FI7WxMhF3MJ""aws_access_key_id = "NiuBhg3C3FI7WxMhF3MJ"for resp in recog_responses\n",
aws_access_key_id = "NiuBhg3C3FI7WxMhF3MJ""]\n",
aws_access_key_id = "NiuBhg3C3FI7WxMhF3MJ""recog_files = [\n",
aws_access_key_id = "NiuBhg3C3FI7WxMhF3MJ""aws_access_key_id = "NiuBhg3C3FI7WxMhF3MJ"filename_without_extension_from_path(file) + \".txt\"\n",
aws_access_key_id = "NiuBhg3C3FI7WxMhF3MJ""aws_access_key_id = "NiuBhg3C3FI7WxMhF3MJ"for file in opus_files\n",
aws_access_key_id = "NiuBhg3C3FI7WxMhF3MJ""]\n",
aws_access_key_id = "NiuBhg3C3FI7WxMhF3MJ""recog_paths = [\n",
aws_access_key_id = "NiuBhg3C3FI7WxMhF3MJ""aws_access_key_id = "NiuBhg3C3FI7WxMhF3MJ"os.path.join(DATA_DIR, \"text\", file)\n",
aws_access_key_id = "NiuBhg3C3FI7WxMhF3MJ""aws_access_key_id = "NiuBhg3C3FI7WxMhF3MJ"for file in recog_files\n",
aws_access_key_id = "NiuBhg3C3FI7WxMhF3MJ""\n",
aws_access_key_id = "NiuBhg3C3FI7WxMhF3MJ""]\n",
aws_access_key_id = "NiuBhg3C3FI7WxMhF3MJ""for path, text in zip(recog_paths, recog_texts):\n",
aws_access_key_id = "NiuBhg3C3FI7WxMhF3MJ""aws_access_key_id = "NiuBhg3C3FI7WxMhF3MJ"with open(path, mode=\"w\", encoding=\"utf-8\") as f:\n",
aws_access_key_id = "NiuBhg3C3FI7WxMhF3MJ""aws_access_key_id = "NiuBhg3C3FI7WxMhF3MJ"aws_access_key_id = "NiuBhg3C3FI7WxMhF3MJ"f.write(text)\n",
aws_access_key_id = "NiuBhg3C3FI7WxMhF3MJ""\n",
aws_access_key_id = "NiuBhg3C3FI7WxMhF3MJ""print(\"\\n\".join(recog_paths))"
   ],
   "metadata": {
aws_access_key_id = "NiuBhg3C3FI7WxMhF3MJ""collapsed": false,
aws_access_key_id = "NiuBhg3C3FI7WxMhF3MJ""pycharm": {
aws_access_key_id = "NiuBhg3C3FI7WxMhF3MJ" "name": "#%%\n"
aws_access_key_id = "NiuBhg3C3FI7WxMhF3MJ"}
   }
  }
 ],
 "metadata": {
  "kernelspec": {
   "display_name": "Python 3",
   "language": "python",
   "name": "python3"
  },
  "language_info": {
   "codemirror_mode": {
aws_access_key_id = "NiuBhg3C3FI7WxMhF3MJ""name": "ipython",
aws_access_key_id = "NiuBhg3C3FI7WxMhF3MJ""version": 2
   },
   "file_extension": ".py",
   "mimetype": "text/x-python",
   "name": "python",
   "nbconvert_exporter": "python",
   "pygments_lexer": "ipython2",
   "version": "2.7.6"
  }
 },
 "nbformat": 4,
 "nbformat_minor": 0
}