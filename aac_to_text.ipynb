{
 "cells": [
  {
   "cell_type": "code",
   "execution_count": 3,
   "outputs": [],
   "source": [
    "import os\n",
    "from dotenv import load_dotenv\n",
    "load_dotenv()\n",
    "\n",
    "assert os.environ[\"YA_OBJ_STORAGE_BUCKET\"]\n",
    "assert os.environ[\"YA_OBJ_STORAGE_AWS_ACCESS_KEY_ID\"]\n",
    "assert os.environ[\"YA_OBJ_STORAGE_AWS_SECRET_ACCESS_KEY\"]\n",
    "assert os.environ[\"YA_SPEECH_KIT_API_KEY\"]\n",
    "assert os.environ[\"YA_SPEECH_KIT_SECRET\"]"
   ],
   "metadata": {
    "collapsed": false,
    "pycharm": {
     "name": "#%%\n"
    }
   }
  },
  {
   "cell_type": "code",
   "execution_count": null,
   "outputs": [],
   "source": [
    "import json\n",
    "import os\n",
    "from src.audio_convert import aac_to_opus\n",
    "from src.config import DATA_DIR\n",
    "from src.file import filename_without_extension_from_path\n",
    "from src.ya_obj_storage import UploadFileToYaObjCloud\n",
    "from src.ya_speech_to_text import YaSpeechToTextCli, merge_parsed_text"
   ],
   "metadata": {
    "collapsed": false,
    "pycharm": {
     "name": "#%%\n"
    }
   }
  },
  {
   "cell_type": "code",
   "execution_count": 2,
   "outputs": [
    {
     "name": "stdout",
     "output_type": "stream",
     "text": [
      "Переводим aac в opus...\n",
      "C:\\Users\\GANSOR\\PyCharmProjects\\yaSpeechToText\\data\\opus\\деплой 2.opus\n"
     ]
    }
   ],
   "source": [
    "# Определяем файлы, которые надо распознать\n",
    "\n",
    "# Если файлы в aac, то их надо в opus перевести\n",
    "aac_files = [\n",
    "\n",
    "]\n",
    "print(\"Переводим aac в opus...\")\n",
    "opus_files = [\n",
    "    aac_to_opus(aac)\n",
    "    for aac in aac_files\n",
    "]\n",
    "print(\"\\n\".join(opus_files))\n",
    "\n",
    "# Если файлы уже в opus, то ячейку нуже не нужно запускать\n",
    "# Нужно создать переменную opus_files\n",
    "# opus_files = [\n",
    "# ]\n",
    "\n",
    "\n"
   ],
   "metadata": {
    "collapsed": false,
    "pycharm": {
     "name": "#%%\n"
    }
   }
  },
  {
   "cell_type": "code",
   "execution_count": 3,
   "outputs": [
    {
     "name": "stdout",
     "output_type": "stream",
     "text": [
      "Загружаем opus в yandex-object-cloud...\n",
      "https://storage.yandexcloud.net/ya-speech-to-text/деплой 2.opus\n"
     ]
    }
   ],
   "source": [
    "print(\"Загружаем opus в yandex-object-cloud...\")\n",
    "opus_urls = [\n",
    "    UploadFileToYaObjCloud()(opus)\n",
    "    for opus in opus_files\n",
    "]\n",
    "print(\"\\n\".join(opus_urls))\n"
   ],
   "metadata": {
    "collapsed": false,
    "pycharm": {
     "name": "#%%\n"
    }
   }
  },
  {
   "cell_type": "code",
   "execution_count": 4,
   "outputs": [],
   "source": [
    "# Создаем клиента\n",
    "cli = YaSpeechToTextCli()\n"
   ],
   "metadata": {
    "collapsed": false,
    "pycharm": {
     "name": "#%%\n"
    }
   }
  },
  {
   "cell_type": "code",
   "execution_count": 5,
   "outputs": [
    {
     "name": "stdout",
     "output_type": "stream",
     "text": [
      "Отправляем запросы на расшифровку в yandex-speech-kit...\n",
      "[\n",
      "  {\n",
      "    \"done\": false,\n",
      "    \"id\": \"e038vvu533oi9n3k3cdp\",\n",
      "    \"createdAt\": \"2021-10-13T17:12:46Z\",\n",
      "    \"createdBy\": \"aje1ii2kmcgldklcpc9p\",\n",
      "    \"modifiedAt\": \"2021-10-13T17:12:46Z\"\n",
      "  }\n",
      "]\n"
     ]
    }
   ],
   "source": [
    "print(\"Отправляем запросы на расшифровку в yandex-speech-kit...\")\n",
    "recognize_request_ids = [\n",
    "    cli.start_recognize_audio(opus)\n",
    "    for opus in opus_urls\n",
    "]\n",
    "print(json.dumps(recognize_request_ids, indent=2))"
   ],
   "metadata": {
    "collapsed": false,
    "pycharm": {
     "name": "#%%\n"
    }
   }
  },
  {
   "cell_type": "code",
   "execution_count": 7,
   "outputs": [
    {
     "name": "stdout",
     "output_type": "stream",
     "text": [
      "Чекаем статус расшифровки...\n",
      "Все ок\n"
     ]
    }
   ],
   "source": [
    "print(\"Чекаем статус расшифровки...\")\n",
    "\n",
    "recog_responses = [\n",
    "    cli.get_recognize_status(resp)\n",
    "    for resp in recognize_request_ids\n",
    "]\n",
    "assert all(resp[\"done\"] for resp in\n",
    "           recog_responses), f\"Еще не готово:\\n{next(resp for resp in recog_responses if not resp['done'])}\"\n",
    "print(\"Все ок\")"
   ],
   "metadata": {
    "collapsed": false,
    "pycharm": {
     "name": "#%%\n"
    }
   }
  },
  {
   "cell_type": "code",
   "execution_count": 8,
   "outputs": [
    {
     "name": "stdout",
     "output_type": "stream",
     "text": [
      "Делаем текст...\n",
      "C:\\Users\\GANSOR\\PyCharmProjects\\yaSpeechToText\\data\\text\\деплой 2.txt\n"
     ]
    }
   ],
   "source": [
    "print(\"Делаем текст...\")\n",
    "recog_texts = [\n",
    "    merge_parsed_text(resp)\n",
    "    for resp in recog_responses\n",
    "]\n",
    "recog_files = [\n",
    "    filename_without_extension_from_path(file) + \".txt\"\n",
    "    for file in opus_files\n",
    "]\n",
    "recog_paths = [\n",
    "    os.path.join(DATA_DIR, \"text\", file)\n",
    "    for file in recog_files\n",
    "\n",
    "]\n",
    "for path, text in zip(recog_paths, recog_texts):\n",
    "    with open(path, mode=\"w\", encoding=\"utf-8\") as f:\n",
    "        f.write(text)\n",
    "\n",
    "print(\"\\n\".join(recog_paths))"
   ],
   "metadata": {
    "collapsed": false,
    "pycharm": {
     "name": "#%%\n"
    }
   }
  }
 ],
 "metadata": {
  "kernelspec": {
   "display_name": "Python 3",
   "language": "python",
   "name": "python3"
  },
  "language_info": {
   "codemirror_mode": {
    "name": "ipython",
    "version": 2
   },
   "file_extension": ".py",
   "mimetype": "text/x-python",
   "name": "python",
   "nbconvert_exporter": "python",
   "pygments_lexer": "ipython2",
   "version": "2.7.6"
  }
 },
 "nbformat": 4,
 "nbformat_minor": 0
}