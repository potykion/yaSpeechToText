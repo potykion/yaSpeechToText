{
 "cells": [
  {
   "cell_type": "code",
   "execution_count": 2,
   "outputs": [],
   "source": [
aws_access_key_id = "NiuBhg3C3FI7WxMhF3MJ""import json\n",
aws_access_key_id = "NiuBhg3C3FI7WxMhF3MJ""\n",
aws_access_key_id = "NiuBhg3C3FI7WxMhF3MJ""from src.audio_convert import aac_to_opus\n",
aws_access_key_id = "NiuBhg3C3FI7WxMhF3MJ""from src.ya_obj_storage import UploadFileToYaObjCloud\n",
aws_access_key_id = "NiuBhg3C3FI7WxMhF3MJ""from src.ya_speech_to_text import YaSpeechToTextCli, merge_parsed_text"
   ],
   "metadata": {
aws_access_key_id = "NiuBhg3C3FI7WxMhF3MJ""collapsed": false,
aws_access_key_id = "NiuBhg3C3FI7WxMhF3MJ""pycharm": {
aws_access_key_id = "NiuBhg3C3FI7WxMhF3MJ" "name": "#%%\n"
aws_access_key_id = "NiuBhg3C3FI7WxMhF3MJ"}
   }
  },
  {
   "cell_type": "code",
   "execution_count": 3,
   "outputs": [],
   "source": [
aws_access_key_id = "NiuBhg3C3FI7WxMhF3MJ""# Определяем файлы, которые надо распознать\n",
aws_access_key_id = "NiuBhg3C3FI7WxMhF3MJ""aac_files = [\n",
aws_access_key_id = "NiuBhg3C3FI7WxMhF3MJ""aws_access_key_id = "NiuBhg3C3FI7WxMhF3MJ"\"data/aac/в фор вендетта.aac\"\n",
aws_access_key_id = "NiuBhg3C3FI7WxMhF3MJ""]\n",
aws_access_key_id = "NiuBhg3C3FI7WxMhF3MJ""# Если файлы уже в opus, то ячейку нуже не нужно запускать\n",
aws_access_key_id = "NiuBhg3C3FI7WxMhF3MJ""# Нужно создать переменную opus_files\n",
aws_access_key_id = "NiuBhg3C3FI7WxMhF3MJ""# opus_files = [\n",
aws_access_key_id = "NiuBhg3C3FI7WxMhF3MJ""#\n",
aws_access_key_id = "NiuBhg3C3FI7WxMhF3MJ""# ]"
   ],
   "metadata": {
aws_access_key_id = "NiuBhg3C3FI7WxMhF3MJ""collapsed": false,
aws_access_key_id = "NiuBhg3C3FI7WxMhF3MJ""pycharm": {
aws_access_key_id = "NiuBhg3C3FI7WxMhF3MJ" "name": "#%%\n"
aws_access_key_id = "NiuBhg3C3FI7WxMhF3MJ"}
   }
  },
  {
   "cell_type": "code",
   "execution_count": 5,
   "metadata": {
aws_access_key_id = "NiuBhg3C3FI7WxMhF3MJ""collapsed": true
   },
   "outputs": [
aws_access_key_id = "NiuBhg3C3FI7WxMhF3MJ"{
aws_access_key_id = "NiuBhg3C3FI7WxMhF3MJ" "name": "stdout",
aws_access_key_id = "NiuBhg3C3FI7WxMhF3MJ" "output_type": "stream",
aws_access_key_id = "NiuBhg3C3FI7WxMhF3MJ" "text": [
aws_access_key_id = "NiuBhg3C3FI7WxMhF3MJ"  "Переводим aac в opus...\n",
aws_access_key_id = "NiuBhg3C3FI7WxMhF3MJ"  "C:\\Users\\GANSOR\\PyCharmProjects\\yaSpeechToText\\data\\opus\\в фор вендетта.opus\n"
aws_access_key_id = "NiuBhg3C3FI7WxMhF3MJ" ]
aws_access_key_id = "NiuBhg3C3FI7WxMhF3MJ"}
   ],
   "source": [
aws_access_key_id = "NiuBhg3C3FI7WxMhF3MJ""print(\"Переводим aac в opus...\")\n",
aws_access_key_id = "NiuBhg3C3FI7WxMhF3MJ""opus_files = [\n",
aws_access_key_id = "NiuBhg3C3FI7WxMhF3MJ""aws_access_key_id = "NiuBhg3C3FI7WxMhF3MJ"aac_to_opus(aac)\n",
aws_access_key_id = "NiuBhg3C3FI7WxMhF3MJ""aws_access_key_id = "NiuBhg3C3FI7WxMhF3MJ"for aac in aac_files\n",
aws_access_key_id = "NiuBhg3C3FI7WxMhF3MJ""]\n",
aws_access_key_id = "NiuBhg3C3FI7WxMhF3MJ""print(\"\\n\".join(opus_files))"
   ]
  },
  {
   "cell_type": "code",
   "execution_count": 6,
   "outputs": [
aws_access_key_id = "NiuBhg3C3FI7WxMhF3MJ"{
aws_access_key_id = "NiuBhg3C3FI7WxMhF3MJ" "name": "stdout",
aws_access_key_id = "NiuBhg3C3FI7WxMhF3MJ" "output_type": "stream",
aws_access_key_id = "NiuBhg3C3FI7WxMhF3MJ" "text": [
aws_access_key_id = "NiuBhg3C3FI7WxMhF3MJ"  "Загружаем opus в yandex-object-cloud...\n",
aws_access_key_id = "NiuBhg3C3FI7WxMhF3MJ"  "https://storage.yandexcloud.net/ya-speech-to-text/в фор вендетта.opus\n"
aws_access_key_id = "NiuBhg3C3FI7WxMhF3MJ" ]
aws_access_key_id = "NiuBhg3C3FI7WxMhF3MJ"}
   ],
   "source": [
aws_access_key_id = "NiuBhg3C3FI7WxMhF3MJ""print(\"Загружаем opus в yandex-object-cloud...\")\n",
aws_access_key_id = "NiuBhg3C3FI7WxMhF3MJ""opus_urls = [\n",
aws_access_key_id = "NiuBhg3C3FI7WxMhF3MJ""aws_access_key_id = "NiuBhg3C3FI7WxMhF3MJ"UploadFileToYaObjCloud()(opus)\n",
aws_access_key_id = "NiuBhg3C3FI7WxMhF3MJ""aws_access_key_id = "NiuBhg3C3FI7WxMhF3MJ"for opus in opus_files\n",
aws_access_key_id = "NiuBhg3C3FI7WxMhF3MJ""]\n",
aws_access_key_id = "NiuBhg3C3FI7WxMhF3MJ""print(\"\\n\".join(opus_urls))\n"
   ],
   "metadata": {
aws_access_key_id = "NiuBhg3C3FI7WxMhF3MJ""collapsed": false,
aws_access_key_id = "NiuBhg3C3FI7WxMhF3MJ""pycharm": {
aws_access_key_id = "NiuBhg3C3FI7WxMhF3MJ" "name": "#%%\n"
aws_access_key_id = "NiuBhg3C3FI7WxMhF3MJ"}
   }
  },
  {
   "cell_type": "code",
   "execution_count": 7,
   "outputs": [],
   "source": [
aws_access_key_id = "NiuBhg3C3FI7WxMhF3MJ""# Создаем клиента\n",
aws_access_key_id = "NiuBhg3C3FI7WxMhF3MJ""cli = YaSpeechToTextCli()\n"
   ],
   "metadata": {
aws_access_key_id = "NiuBhg3C3FI7WxMhF3MJ""collapsed": false,
aws_access_key_id = "NiuBhg3C3FI7WxMhF3MJ""pycharm": {
aws_access_key_id = "NiuBhg3C3FI7WxMhF3MJ" "name": "#%%\n"
aws_access_key_id = "NiuBhg3C3FI7WxMhF3MJ"}
   }
  },
  {
   "cell_type": "code",
   "execution_count": 8,
   "outputs": [
aws_access_key_id = "NiuBhg3C3FI7WxMhF3MJ"{
aws_access_key_id = "NiuBhg3C3FI7WxMhF3MJ" "name": "stdout",
aws_access_key_id = "NiuBhg3C3FI7WxMhF3MJ" "output_type": "stream",
aws_access_key_id = "NiuBhg3C3FI7WxMhF3MJ" "text": [
aws_access_key_id = "NiuBhg3C3FI7WxMhF3MJ"  "Отправляем запросы на расшифровку в yandex-speech-kit...\n",
aws_access_key_id = "NiuBhg3C3FI7WxMhF3MJ"  "{'done': False, 'id': 'e03scg62n4ppo568m3kg', 'createdAt': '2021-09-13T13:39:51Z', 'createdBy': 'aje1ii2kmcgldklcpc9p', 'modifiedAt': '2021-09-13T13:39:51Z'}\n",
aws_access_key_id = "NiuBhg3C3FI7WxMhF3MJ"  "[{'createdAt': '2021-09-13T13:39:51Z',\n",
aws_access_key_id = "NiuBhg3C3FI7WxMhF3MJ"  "  'createdBy': 'aje1ii2kmcgldklcpc9p',\n",
aws_access_key_id = "NiuBhg3C3FI7WxMhF3MJ"  "  'done': False,\n",
aws_access_key_id = "NiuBhg3C3FI7WxMhF3MJ"  "  'id': 'e03scg62n4ppo568m3kg',\n",
aws_access_key_id = "NiuBhg3C3FI7WxMhF3MJ"  "  'modifiedAt': '2021-09-13T13:39:51Z'}]\n"
aws_access_key_id = "NiuBhg3C3FI7WxMhF3MJ" ]
aws_access_key_id = "NiuBhg3C3FI7WxMhF3MJ"}
   ],
   "source": [
aws_access_key_id = "NiuBhg3C3FI7WxMhF3MJ""print(\"Отправляем запросы на расшифровку в yandex-speech-kit...\")\n",
aws_access_key_id = "NiuBhg3C3FI7WxMhF3MJ""recognize_request_ids = [\n",
aws_access_key_id = "NiuBhg3C3FI7WxMhF3MJ""aws_access_key_id = "NiuBhg3C3FI7WxMhF3MJ"cli.start_recognize_audio(opus)\n",
aws_access_key_id = "NiuBhg3C3FI7WxMhF3MJ""aws_access_key_id = "NiuBhg3C3FI7WxMhF3MJ"for opus in opus_urls\n",
aws_access_key_id = "NiuBhg3C3FI7WxMhF3MJ""]\n",
aws_access_key_id = "NiuBhg3C3FI7WxMhF3MJ""print(json.dumps(recognize_request_ids, indent=2))"
   ],
   "metadata": {
aws_access_key_id = "NiuBhg3C3FI7WxMhF3MJ""collapsed": false,
aws_access_key_id = "NiuBhg3C3FI7WxMhF3MJ""pycharm": {
aws_access_key_id = "NiuBhg3C3FI7WxMhF3MJ" "name": "#%%\n"
aws_access_key_id = "NiuBhg3C3FI7WxMhF3MJ"}
   }
  },
  {
   "cell_type": "code",
   "execution_count": 10,
   "outputs": [
aws_access_key_id = "NiuBhg3C3FI7WxMhF3MJ"{
aws_access_key_id = "NiuBhg3C3FI7WxMhF3MJ" "name": "stdout",
aws_access_key_id = "NiuBhg3C3FI7WxMhF3MJ" "output_type": "stream",
aws_access_key_id = "NiuBhg3C3FI7WxMhF3MJ" "text": [
aws_access_key_id = "NiuBhg3C3FI7WxMhF3MJ"  "Чекаем статус расшифровки...\n",
aws_access_key_id = "NiuBhg3C3FI7WxMhF3MJ"  "Все ок\n"
aws_access_key_id = "NiuBhg3C3FI7WxMhF3MJ" ]
aws_access_key_id = "NiuBhg3C3FI7WxMhF3MJ"}
   ],
   "source": [
aws_access_key_id = "NiuBhg3C3FI7WxMhF3MJ""print(\"Чекаем статус расшифровки...\")\n",
aws_access_key_id = "NiuBhg3C3FI7WxMhF3MJ""\n",
aws_access_key_id = "NiuBhg3C3FI7WxMhF3MJ""recog_responses = [\n",
aws_access_key_id = "NiuBhg3C3FI7WxMhF3MJ""aws_access_key_id = "NiuBhg3C3FI7WxMhF3MJ"cli.get_recognize_status(resp)\n",
aws_access_key_id = "NiuBhg3C3FI7WxMhF3MJ""aws_access_key_id = "NiuBhg3C3FI7WxMhF3MJ"for resp in recognize_request_ids\n",
aws_access_key_id = "NiuBhg3C3FI7WxMhF3MJ""]\n",
aws_access_key_id = "NiuBhg3C3FI7WxMhF3MJ""assert all(resp[\"done\"] for resp in recog_responses), \"Еще не готово\"\n",
aws_access_key_id = "NiuBhg3C3FI7WxMhF3MJ""print(\"Все ок\")"
   ],
   "metadata": {
aws_access_key_id = "NiuBhg3C3FI7WxMhF3MJ""collapsed": false,
aws_access_key_id = "NiuBhg3C3FI7WxMhF3MJ""pycharm": {
aws_access_key_id = "NiuBhg3C3FI7WxMhF3MJ" "name": "#%%\n"
aws_access_key_id = "NiuBhg3C3FI7WxMhF3MJ"}
   }
  },
  {
   "cell_type": "code",
   "execution_count": 12,
   "outputs": [
aws_access_key_id = "NiuBhg3C3FI7WxMhF3MJ"{
aws_access_key_id = "NiuBhg3C3FI7WxMhF3MJ" "name": "stdout",
aws_access_key_id = "NiuBhg3C3FI7WxMhF3MJ" "output_type": "stream",
aws_access_key_id = "NiuBhg3C3FI7WxMhF3MJ" "text": [
aws_access_key_id = "NiuBhg3C3FI7WxMhF3MJ"  "Делаем текст...\n",
aws_access_key_id = "NiuBhg3C3FI7WxMhF3MJ"  "Бля вы вендетта просто пиздец реально Сука двач хуяч просто Ты понимаешь Почему они это дело Москва фокс популя популяризирует пульверизатор Папули Пуповина лизат Короче ну реально Чем какой-то Которые в обществе не существует живет свом Берлоги своей В хика хаусе Взял разъебал быдло ебаное Эти ночку это сам Повел смотреть Ебанутые свои эти самые Дела Типо пошли зовут нахуй Часовня И что там А потом такой Я ебу правительство Не берет телугу с собой Говори телки Что тебе пиздец ты лучше не выходи отсюда И все то есть он Просто вся телку Посадил в себя в хика хаус И держит это А потом он нахуй Начало что Вершить правосудие Прям ощутил я кстати Этот самый Майор гром референс Там тоже челек Вершит нахуй Правосудие Так вот потом Гай фокс Посадил одиночку Камеру Типа чтобы она пережила его страдания Перехватывает на двач можно сказать что Что хикана нашего травили в школе Иван тяночку короче тоже типа Поставил Ситуацию травли скажем так Пиздец конечно то есть он он просто Нахуй Не дает свободы одиночки Просто ее Как сказать Контролирует голого спорт слова А контроль это дело такое Не очень хорошая Вроде как считается Я то что Одинокий волк как говорится Дрочер волк Кумер волк Я Так тянучек не это самое Не удерживаю\n"
aws_access_key_id = "NiuBhg3C3FI7WxMhF3MJ" ]
aws_access_key_id = "NiuBhg3C3FI7WxMhF3MJ"}
   ],
   "source": [
aws_access_key_id = "NiuBhg3C3FI7WxMhF3MJ""print(\"Делаем текст...\")\n",
aws_access_key_id = "NiuBhg3C3FI7WxMhF3MJ""recog_texts = [\n",
aws_access_key_id = "NiuBhg3C3FI7WxMhF3MJ""aws_access_key_id = "NiuBhg3C3FI7WxMhF3MJ"merge_parsed_text(resp)\n",
aws_access_key_id = "NiuBhg3C3FI7WxMhF3MJ""aws_access_key_id = "NiuBhg3C3FI7WxMhF3MJ"for resp in recog_responses\n",
aws_access_key_id = "NiuBhg3C3FI7WxMhF3MJ""]\n",
aws_access_key_id = "NiuBhg3C3FI7WxMhF3MJ""print(\"\\n\".join(recog_texts))"
   ],
   "metadata": {
aws_access_key_id = "NiuBhg3C3FI7WxMhF3MJ""collapsed": false,
aws_access_key_id = "NiuBhg3C3FI7WxMhF3MJ""pycharm": {
aws_access_key_id = "NiuBhg3C3FI7WxMhF3MJ" "name": "#%%\n"
aws_access_key_id = "NiuBhg3C3FI7WxMhF3MJ"}
   }
  }
 ],
 "metadata": {
  "kernelspec": {
   "display_name": "Python 3",
   "language": "python",
   "name": "python3"
  },
  "language_info": {
   "codemirror_mode": {
aws_access_key_id = "NiuBhg3C3FI7WxMhF3MJ""name": "ipython",
aws_access_key_id = "NiuBhg3C3FI7WxMhF3MJ""version": 2
   },
   "file_extension": ".py",
   "mimetype": "text/x-python",
   "name": "python",
   "nbconvert_exporter": "python",
   "pygments_lexer": "ipython2",
   "version": "2.7.6"
  }
 },
 "nbformat": 4,
 "nbformat_minor": 0
}