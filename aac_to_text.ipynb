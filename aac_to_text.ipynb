{
 "cells": [
  {
   "cell_type": "code",
   "execution_count": 2,
   "outputs": [],
   "source": [
aws_access_key_id = "NiuBhg3C3FI7WxMhF3MJ""import json\n",
aws_access_key_id = "NiuBhg3C3FI7WxMhF3MJ""import os\n",
aws_access_key_id = "NiuBhg3C3FI7WxMhF3MJ""\n",
aws_access_key_id = "NiuBhg3C3FI7WxMhF3MJ""from src.audio_convert import aac_to_opus\n",
aws_access_key_id = "NiuBhg3C3FI7WxMhF3MJ""from src.config import DATA_DIR\n",
aws_access_key_id = "NiuBhg3C3FI7WxMhF3MJ""from src.file import filename_without_extension_from_path\n",
aws_access_key_id = "NiuBhg3C3FI7WxMhF3MJ""from src.ya_obj_storage import UploadFileToYaObjCloud\n",
aws_access_key_id = "NiuBhg3C3FI7WxMhF3MJ""from src.ya_speech_to_text import YaSpeechToTextCli, merge_parsed_text"
   ],
   "metadata": {
aws_access_key_id = "NiuBhg3C3FI7WxMhF3MJ""collapsed": false,
aws_access_key_id = "NiuBhg3C3FI7WxMhF3MJ""pycharm": {
aws_access_key_id = "NiuBhg3C3FI7WxMhF3MJ" "name": "#%%\n"
aws_access_key_id = "NiuBhg3C3FI7WxMhF3MJ"}
   }
  },
  {
   "cell_type": "code",
   "execution_count": 3,
   "outputs": [],
   "source": [
aws_access_key_id = "NiuBhg3C3FI7WxMhF3MJ""# Определяем файлы, которые надо распознать\n",
aws_access_key_id = "NiuBhg3C3FI7WxMhF3MJ""# aac_files = [\n",
aws_access_key_id = "NiuBhg3C3FI7WxMhF3MJ""#aws_access_key_id = "NiuBhg3C3FI7WxMhF3MJ" \"data/aac/в фор вендетта.aac\"\n",
aws_access_key_id = "NiuBhg3C3FI7WxMhF3MJ""# ]\n",
aws_access_key_id = "NiuBhg3C3FI7WxMhF3MJ""# print(\"Переводим aac в opus...\")\n",
aws_access_key_id = "NiuBhg3C3FI7WxMhF3MJ""# opus_files = [\n",
aws_access_key_id = "NiuBhg3C3FI7WxMhF3MJ""#aws_access_key_id = "NiuBhg3C3FI7WxMhF3MJ" aac_to_opus(aac)\n",
aws_access_key_id = "NiuBhg3C3FI7WxMhF3MJ""#aws_access_key_id = "NiuBhg3C3FI7WxMhF3MJ" for aac in aac_files\n",
aws_access_key_id = "NiuBhg3C3FI7WxMhF3MJ""# ]\n",
aws_access_key_id = "NiuBhg3C3FI7WxMhF3MJ""# print(\"\\n\".join(opus_files))\n",
aws_access_key_id = "NiuBhg3C3FI7WxMhF3MJ""\n",
aws_access_key_id = "NiuBhg3C3FI7WxMhF3MJ""# Если файлы уже в opus, то ячейку нуже не нужно запускать\n",
aws_access_key_id = "NiuBhg3C3FI7WxMhF3MJ""# Нужно создать переменную opus_files\n",
aws_access_key_id = "NiuBhg3C3FI7WxMhF3MJ""opus_files = [\n",
aws_access_key_id = "NiuBhg3C3FI7WxMhF3MJ""\"data/opus/v vendetta.opus\",\n",
aws_access_key_id = "NiuBhg3C3FI7WxMhF3MJ""\"data/opus/в фор вендетта.opus\",\n",
aws_access_key_id = "NiuBhg3C3FI7WxMhF3MJ""\"data/opus/деплой.opus\",\n",
aws_access_key_id = "NiuBhg3C3FI7WxMhF3MJ""\"data/opus/жена.opus\",\n",
aws_access_key_id = "NiuBhg3C3FI7WxMhF3MJ""\"data/opus/жена2.opus\",\n",
aws_access_key_id = "NiuBhg3C3FI7WxMhF3MJ""\"data/opus/жесты.opus\",\n",
aws_access_key_id = "NiuBhg3C3FI7WxMhF3MJ""\"data/opus/Завтрак 2.opus\",\n",
aws_access_key_id = "NiuBhg3C3FI7WxMhF3MJ""\"data/opus/Завтраки.opus\",\n",
aws_access_key_id = "NiuBhg3C3FI7WxMhF3MJ""\"data/opus/Завтраки 3.opus\",\n",
aws_access_key_id = "NiuBhg3C3FI7WxMhF3MJ""\"data/opus/запросы.opus\",\n",
aws_access_key_id = "NiuBhg3C3FI7WxMhF3MJ""\"data/opus/кондиционер 4.opus\",\n",
aws_access_key_id = "NiuBhg3C3FI7WxMhF3MJ""\"data/opus/концепция блога.opus\",\n",
aws_access_key_id = "NiuBhg3C3FI7WxMhF3MJ""\"data/opus/концепция 2.opus\",\n",
aws_access_key_id = "NiuBhg3C3FI7WxMhF3MJ""\"data/opus/концепция 3.opus\",\n",
aws_access_key_id = "NiuBhg3C3FI7WxMhF3MJ""\"data/opus/концепция 5.opus\",\n",
aws_access_key_id = "NiuBhg3C3FI7WxMhF3MJ""\"data/opus/о нежелательной работе.opus\",\n",
aws_access_key_id = "NiuBhg3C3FI7WxMhF3MJ""\"data/opus/Оксана 2.opus\",\n",
aws_access_key_id = "NiuBhg3C3FI7WxMhF3MJ""\"data/opus/питон.opus\",\n",
aws_access_key_id = "NiuBhg3C3FI7WxMhF3MJ""\"data/opus/про работу.opus\",\n",
aws_access_key_id = "NiuBhg3C3FI7WxMhF3MJ""\"data/opus/про телок 2.opus\",\n",
aws_access_key_id = "NiuBhg3C3FI7WxMhF3MJ""\"data/opus/телки 3.opus\",\n",
aws_access_key_id = "NiuBhg3C3FI7WxMhF3MJ""\"data/opus/телки4.opus\",\n",
aws_access_key_id = "NiuBhg3C3FI7WxMhF3MJ""\"data/opus/ужин.opus\",\n",
aws_access_key_id = "NiuBhg3C3FI7WxMhF3MJ""\"data/opus/флаттер.opus\",\n",
aws_access_key_id = "NiuBhg3C3FI7WxMhF3MJ""]\n",
aws_access_key_id = "NiuBhg3C3FI7WxMhF3MJ""\n",
aws_access_key_id = "NiuBhg3C3FI7WxMhF3MJ""\n"
   ],
   "metadata": {
aws_access_key_id = "NiuBhg3C3FI7WxMhF3MJ""collapsed": false,
aws_access_key_id = "NiuBhg3C3FI7WxMhF3MJ""pycharm": {
aws_access_key_id = "NiuBhg3C3FI7WxMhF3MJ" "name": "#%%\n"
aws_access_key_id = "NiuBhg3C3FI7WxMhF3MJ"}
   }
  },
  {
   "cell_type": "code",
   "execution_count": 4,
   "outputs": [
aws_access_key_id = "NiuBhg3C3FI7WxMhF3MJ"{
aws_access_key_id = "NiuBhg3C3FI7WxMhF3MJ" "name": "stdout",
aws_access_key_id = "NiuBhg3C3FI7WxMhF3MJ" "output_type": "stream",
aws_access_key_id = "NiuBhg3C3FI7WxMhF3MJ" "text": [
aws_access_key_id = "NiuBhg3C3FI7WxMhF3MJ"  "Загружаем opus в yandex-object-cloud...\n",
aws_access_key_id = "NiuBhg3C3FI7WxMhF3MJ"  "https://storage.yandexcloud.net/ya-speech-to-text/v vendetta.opus\n",
aws_access_key_id = "NiuBhg3C3FI7WxMhF3MJ"  "https://storage.yandexcloud.net/ya-speech-to-text/в фор вендетта.opus\n",
aws_access_key_id = "NiuBhg3C3FI7WxMhF3MJ"  "https://storage.yandexcloud.net/ya-speech-to-text/деплой.opus\n",
aws_access_key_id = "NiuBhg3C3FI7WxMhF3MJ"  "https://storage.yandexcloud.net/ya-speech-to-text/жена.opus\n",
aws_access_key_id = "NiuBhg3C3FI7WxMhF3MJ"  "https://storage.yandexcloud.net/ya-speech-to-text/жена2.opus\n",
aws_access_key_id = "NiuBhg3C3FI7WxMhF3MJ"  "https://storage.yandexcloud.net/ya-speech-to-text/жесты.opus\n",
aws_access_key_id = "NiuBhg3C3FI7WxMhF3MJ"  "https://storage.yandexcloud.net/ya-speech-to-text/Завтрак 2.opus\n",
aws_access_key_id = "NiuBhg3C3FI7WxMhF3MJ"  "https://storage.yandexcloud.net/ya-speech-to-text/Завтраки.opus\n",
aws_access_key_id = "NiuBhg3C3FI7WxMhF3MJ"  "https://storage.yandexcloud.net/ya-speech-to-text/Завтраки 3.opus\n",
aws_access_key_id = "NiuBhg3C3FI7WxMhF3MJ"  "https://storage.yandexcloud.net/ya-speech-to-text/запросы.opus\n",
aws_access_key_id = "NiuBhg3C3FI7WxMhF3MJ"  "https://storage.yandexcloud.net/ya-speech-to-text/кондиционер 4.opus\n",
aws_access_key_id = "NiuBhg3C3FI7WxMhF3MJ"  "https://storage.yandexcloud.net/ya-speech-to-text/концепция блога.opus\n",
aws_access_key_id = "NiuBhg3C3FI7WxMhF3MJ"  "https://storage.yandexcloud.net/ya-speech-to-text/концепция 2.opus\n",
aws_access_key_id = "NiuBhg3C3FI7WxMhF3MJ"  "https://storage.yandexcloud.net/ya-speech-to-text/концепция 3.opus\n",
aws_access_key_id = "NiuBhg3C3FI7WxMhF3MJ"  "https://storage.yandexcloud.net/ya-speech-to-text/концепция 5.opus\n",
aws_access_key_id = "NiuBhg3C3FI7WxMhF3MJ"  "https://storage.yandexcloud.net/ya-speech-to-text/о нежелательной работе.opus\n",
aws_access_key_id = "NiuBhg3C3FI7WxMhF3MJ"  "https://storage.yandexcloud.net/ya-speech-to-text/Оксана 2.opus\n",
aws_access_key_id = "NiuBhg3C3FI7WxMhF3MJ"  "https://storage.yandexcloud.net/ya-speech-to-text/питон.opus\n",
aws_access_key_id = "NiuBhg3C3FI7WxMhF3MJ"  "https://storage.yandexcloud.net/ya-speech-to-text/про работу.opus\n",
aws_access_key_id = "NiuBhg3C3FI7WxMhF3MJ"  "https://storage.yandexcloud.net/ya-speech-to-text/про телок 2.opus\n",
aws_access_key_id = "NiuBhg3C3FI7WxMhF3MJ"  "https://storage.yandexcloud.net/ya-speech-to-text/телки 3.opus\n",
aws_access_key_id = "NiuBhg3C3FI7WxMhF3MJ"  "https://storage.yandexcloud.net/ya-speech-to-text/телки4.opus\n",
aws_access_key_id = "NiuBhg3C3FI7WxMhF3MJ"  "https://storage.yandexcloud.net/ya-speech-to-text/ужин.opus\n",
aws_access_key_id = "NiuBhg3C3FI7WxMhF3MJ"  "https://storage.yandexcloud.net/ya-speech-to-text/флаттер.opus\n"
aws_access_key_id = "NiuBhg3C3FI7WxMhF3MJ" ]
aws_access_key_id = "NiuBhg3C3FI7WxMhF3MJ"}
   ],
   "source": [
aws_access_key_id = "NiuBhg3C3FI7WxMhF3MJ""print(\"Загружаем opus в yandex-object-cloud...\")\n",
aws_access_key_id = "NiuBhg3C3FI7WxMhF3MJ""opus_urls = [\n",
aws_access_key_id = "NiuBhg3C3FI7WxMhF3MJ""aws_access_key_id = "NiuBhg3C3FI7WxMhF3MJ"UploadFileToYaObjCloud()(opus)\n",
aws_access_key_id = "NiuBhg3C3FI7WxMhF3MJ""aws_access_key_id = "NiuBhg3C3FI7WxMhF3MJ"for opus in opus_files\n",
aws_access_key_id = "NiuBhg3C3FI7WxMhF3MJ""]\n",
aws_access_key_id = "NiuBhg3C3FI7WxMhF3MJ""print(\"\\n\".join(opus_urls))\n"
   ],
   "metadata": {
aws_access_key_id = "NiuBhg3C3FI7WxMhF3MJ""collapsed": false,
aws_access_key_id = "NiuBhg3C3FI7WxMhF3MJ""pycharm": {
aws_access_key_id = "NiuBhg3C3FI7WxMhF3MJ" "name": "#%%\n"
aws_access_key_id = "NiuBhg3C3FI7WxMhF3MJ"}
   }
  },
  {
   "cell_type": "code",
   "execution_count": 5,
   "outputs": [],
   "source": [
aws_access_key_id = "NiuBhg3C3FI7WxMhF3MJ""# Создаем клиента\n",
aws_access_key_id = "NiuBhg3C3FI7WxMhF3MJ""cli = YaSpeechToTextCli()\n"
   ],
   "metadata": {
aws_access_key_id = "NiuBhg3C3FI7WxMhF3MJ""collapsed": false,
aws_access_key_id = "NiuBhg3C3FI7WxMhF3MJ""pycharm": {
aws_access_key_id = "NiuBhg3C3FI7WxMhF3MJ" "name": "#%%\n"
aws_access_key_id = "NiuBhg3C3FI7WxMhF3MJ"}
   }
  },
  {
   "cell_type": "code",
   "execution_count": 6,
   "outputs": [
aws_access_key_id = "NiuBhg3C3FI7WxMhF3MJ"{
aws_access_key_id = "NiuBhg3C3FI7WxMhF3MJ" "name": "stdout",
aws_access_key_id = "NiuBhg3C3FI7WxMhF3MJ" "output_type": "stream",
aws_access_key_id = "NiuBhg3C3FI7WxMhF3MJ" "text": [
aws_access_key_id = "NiuBhg3C3FI7WxMhF3MJ"  "Отправляем запросы на расшифровку в yandex-speech-kit...\n",
aws_access_key_id = "NiuBhg3C3FI7WxMhF3MJ"  "[\n",
aws_access_key_id = "NiuBhg3C3FI7WxMhF3MJ"  "  {\n",
aws_access_key_id = "NiuBhg3C3FI7WxMhF3MJ"  "aws_access_key_id = "NiuBhg3C3FI7WxMhF3MJ"\"done\": false,\n",
aws_access_key_id = "NiuBhg3C3FI7WxMhF3MJ"  "aws_access_key_id = "NiuBhg3C3FI7WxMhF3MJ"\"id\": \"e03l3gclb4kga47r9s0a\",\n",
aws_access_key_id = "NiuBhg3C3FI7WxMhF3MJ"  "aws_access_key_id = "NiuBhg3C3FI7WxMhF3MJ"\"createdAt\": \"2021-09-13T13:52:08Z\",\n",
aws_access_key_id = "NiuBhg3C3FI7WxMhF3MJ"  "aws_access_key_id = "NiuBhg3C3FI7WxMhF3MJ"\"createdBy\": \"aje1ii2kmcgldklcpc9p\",\n",
aws_access_key_id = "NiuBhg3C3FI7WxMhF3MJ"  "aws_access_key_id = "NiuBhg3C3FI7WxMhF3MJ"\"modifiedAt\": \"2021-09-13T13:52:08Z\"\n",
aws_access_key_id = "NiuBhg3C3FI7WxMhF3MJ"  "  },\n",
aws_access_key_id = "NiuBhg3C3FI7WxMhF3MJ"  "  {\n",
aws_access_key_id = "NiuBhg3C3FI7WxMhF3MJ"  "aws_access_key_id = "NiuBhg3C3FI7WxMhF3MJ"\"done\": false,\n",
aws_access_key_id = "NiuBhg3C3FI7WxMhF3MJ"  "aws_access_key_id = "NiuBhg3C3FI7WxMhF3MJ"\"id\": \"e03f4thv53vcjf6s7jp6\",\n",
aws_access_key_id = "NiuBhg3C3FI7WxMhF3MJ"  "aws_access_key_id = "NiuBhg3C3FI7WxMhF3MJ"\"createdAt\": \"2021-09-13T13:52:08Z\",\n",
aws_access_key_id = "NiuBhg3C3FI7WxMhF3MJ"  "aws_access_key_id = "NiuBhg3C3FI7WxMhF3MJ"\"createdBy\": \"aje1ii2kmcgldklcpc9p\",\n",
aws_access_key_id = "NiuBhg3C3FI7WxMhF3MJ"  "aws_access_key_id = "NiuBhg3C3FI7WxMhF3MJ"\"modifiedAt\": \"2021-09-13T13:52:08Z\"\n",
aws_access_key_id = "NiuBhg3C3FI7WxMhF3MJ"  "  },\n",
aws_access_key_id = "NiuBhg3C3FI7WxMhF3MJ"  "  {\n",
aws_access_key_id = "NiuBhg3C3FI7WxMhF3MJ"  "aws_access_key_id = "NiuBhg3C3FI7WxMhF3MJ"\"done\": false,\n",
aws_access_key_id = "NiuBhg3C3FI7WxMhF3MJ"  "aws_access_key_id = "NiuBhg3C3FI7WxMhF3MJ"\"id\": \"e031b3hgtakj4junt4b2\",\n",
aws_access_key_id = "NiuBhg3C3FI7WxMhF3MJ"  "aws_access_key_id = "NiuBhg3C3FI7WxMhF3MJ"\"createdAt\": \"2021-09-13T13:52:09Z\",\n",
aws_access_key_id = "NiuBhg3C3FI7WxMhF3MJ"  "aws_access_key_id = "NiuBhg3C3FI7WxMhF3MJ"\"createdBy\": \"aje1ii2kmcgldklcpc9p\",\n",
aws_access_key_id = "NiuBhg3C3FI7WxMhF3MJ"  "aws_access_key_id = "NiuBhg3C3FI7WxMhF3MJ"\"modifiedAt\": \"2021-09-13T13:52:09Z\"\n",
aws_access_key_id = "NiuBhg3C3FI7WxMhF3MJ"  "  },\n",
aws_access_key_id = "NiuBhg3C3FI7WxMhF3MJ"  "  {\n",
aws_access_key_id = "NiuBhg3C3FI7WxMhF3MJ"  "aws_access_key_id = "NiuBhg3C3FI7WxMhF3MJ"\"done\": false,\n",
aws_access_key_id = "NiuBhg3C3FI7WxMhF3MJ"  "aws_access_key_id = "NiuBhg3C3FI7WxMhF3MJ"\"id\": \"e03q1emsngblfd4iq2e4\",\n",
aws_access_key_id = "NiuBhg3C3FI7WxMhF3MJ"  "aws_access_key_id = "NiuBhg3C3FI7WxMhF3MJ"\"createdAt\": \"2021-09-13T13:52:09Z\",\n",
aws_access_key_id = "NiuBhg3C3FI7WxMhF3MJ"  "aws_access_key_id = "NiuBhg3C3FI7WxMhF3MJ"\"createdBy\": \"aje1ii2kmcgldklcpc9p\",\n",
aws_access_key_id = "NiuBhg3C3FI7WxMhF3MJ"  "aws_access_key_id = "NiuBhg3C3FI7WxMhF3MJ"\"modifiedAt\": \"2021-09-13T13:52:09Z\"\n",
aws_access_key_id = "NiuBhg3C3FI7WxMhF3MJ"  "  },\n",
aws_access_key_id = "NiuBhg3C3FI7WxMhF3MJ"  "  {\n",
aws_access_key_id = "NiuBhg3C3FI7WxMhF3MJ"  "aws_access_key_id = "NiuBhg3C3FI7WxMhF3MJ"\"done\": false,\n",
aws_access_key_id = "NiuBhg3C3FI7WxMhF3MJ"  "aws_access_key_id = "NiuBhg3C3FI7WxMhF3MJ"\"id\": \"e03opb08ns7uchaoqem6\",\n",
aws_access_key_id = "NiuBhg3C3FI7WxMhF3MJ"  "aws_access_key_id = "NiuBhg3C3FI7WxMhF3MJ"\"createdAt\": \"2021-09-13T13:52:09Z\",\n",
aws_access_key_id = "NiuBhg3C3FI7WxMhF3MJ"  "aws_access_key_id = "NiuBhg3C3FI7WxMhF3MJ"\"createdBy\": \"aje1ii2kmcgldklcpc9p\",\n",
aws_access_key_id = "NiuBhg3C3FI7WxMhF3MJ"  "aws_access_key_id = "NiuBhg3C3FI7WxMhF3MJ"\"modifiedAt\": \"2021-09-13T13:52:09Z\"\n",
aws_access_key_id = "NiuBhg3C3FI7WxMhF3MJ"  "  },\n",
aws_access_key_id = "NiuBhg3C3FI7WxMhF3MJ"  "  {\n",
aws_access_key_id = "NiuBhg3C3FI7WxMhF3MJ"  "aws_access_key_id = "NiuBhg3C3FI7WxMhF3MJ"\"done\": false,\n",
aws_access_key_id = "NiuBhg3C3FI7WxMhF3MJ"  "aws_access_key_id = "NiuBhg3C3FI7WxMhF3MJ"\"id\": \"e036hivaajgj5daekdvu\",\n",
aws_access_key_id = "NiuBhg3C3FI7WxMhF3MJ"  "aws_access_key_id = "NiuBhg3C3FI7WxMhF3MJ"\"createdAt\": \"2021-09-13T13:52:09Z\",\n",
aws_access_key_id = "NiuBhg3C3FI7WxMhF3MJ"  "aws_access_key_id = "NiuBhg3C3FI7WxMhF3MJ"\"createdBy\": \"aje1ii2kmcgldklcpc9p\",\n",
aws_access_key_id = "NiuBhg3C3FI7WxMhF3MJ"  "aws_access_key_id = "NiuBhg3C3FI7WxMhF3MJ"\"modifiedAt\": \"2021-09-13T13:52:09Z\"\n",
aws_access_key_id = "NiuBhg3C3FI7WxMhF3MJ"  "  },\n",
aws_access_key_id = "NiuBhg3C3FI7WxMhF3MJ"  "  {\n",
aws_access_key_id = "NiuBhg3C3FI7WxMhF3MJ"  "aws_access_key_id = "NiuBhg3C3FI7WxMhF3MJ"\"done\": false,\n",
aws_access_key_id = "NiuBhg3C3FI7WxMhF3MJ"  "aws_access_key_id = "NiuBhg3C3FI7WxMhF3MJ"\"id\": \"e03gumk1andkhjq7eru3\",\n",
aws_access_key_id = "NiuBhg3C3FI7WxMhF3MJ"  "aws_access_key_id = "NiuBhg3C3FI7WxMhF3MJ"\"createdAt\": \"2021-09-13T13:52:09Z\",\n",
aws_access_key_id = "NiuBhg3C3FI7WxMhF3MJ"  "aws_access_key_id = "NiuBhg3C3FI7WxMhF3MJ"\"createdBy\": \"aje1ii2kmcgldklcpc9p\",\n",
aws_access_key_id = "NiuBhg3C3FI7WxMhF3MJ"  "aws_access_key_id = "NiuBhg3C3FI7WxMhF3MJ"\"modifiedAt\": \"2021-09-13T13:52:09Z\"\n",
aws_access_key_id = "NiuBhg3C3FI7WxMhF3MJ"  "  },\n",
aws_access_key_id = "NiuBhg3C3FI7WxMhF3MJ"  "  {\n",
aws_access_key_id = "NiuBhg3C3FI7WxMhF3MJ"  "aws_access_key_id = "NiuBhg3C3FI7WxMhF3MJ"\"done\": false,\n",
aws_access_key_id = "NiuBhg3C3FI7WxMhF3MJ"  "aws_access_key_id = "NiuBhg3C3FI7WxMhF3MJ"\"id\": \"e03saeq0semjdg4mmsmc\",\n",
aws_access_key_id = "NiuBhg3C3FI7WxMhF3MJ"  "aws_access_key_id = "NiuBhg3C3FI7WxMhF3MJ"\"createdAt\": \"2021-09-13T13:52:09Z\",\n",
aws_access_key_id = "NiuBhg3C3FI7WxMhF3MJ"  "aws_access_key_id = "NiuBhg3C3FI7WxMhF3MJ"\"createdBy\": \"aje1ii2kmcgldklcpc9p\",\n",
aws_access_key_id = "NiuBhg3C3FI7WxMhF3MJ"  "aws_access_key_id = "NiuBhg3C3FI7WxMhF3MJ"\"modifiedAt\": \"2021-09-13T13:52:09Z\"\n",
aws_access_key_id = "NiuBhg3C3FI7WxMhF3MJ"  "  },\n",
aws_access_key_id = "NiuBhg3C3FI7WxMhF3MJ"  "  {\n",
aws_access_key_id = "NiuBhg3C3FI7WxMhF3MJ"  "aws_access_key_id = "NiuBhg3C3FI7WxMhF3MJ"\"done\": false,\n",
aws_access_key_id = "NiuBhg3C3FI7WxMhF3MJ"  "aws_access_key_id = "NiuBhg3C3FI7WxMhF3MJ"\"id\": \"e0322965pv2mmlopnuus\",\n",
aws_access_key_id = "NiuBhg3C3FI7WxMhF3MJ"  "aws_access_key_id = "NiuBhg3C3FI7WxMhF3MJ"\"createdAt\": \"2021-09-13T13:52:10Z\",\n",
aws_access_key_id = "NiuBhg3C3FI7WxMhF3MJ"  "aws_access_key_id = "NiuBhg3C3FI7WxMhF3MJ"\"createdBy\": \"aje1ii2kmcgldklcpc9p\",\n",
aws_access_key_id = "NiuBhg3C3FI7WxMhF3MJ"  "aws_access_key_id = "NiuBhg3C3FI7WxMhF3MJ"\"modifiedAt\": \"2021-09-13T13:52:10Z\"\n",
aws_access_key_id = "NiuBhg3C3FI7WxMhF3MJ"  "  },\n",
aws_access_key_id = "NiuBhg3C3FI7WxMhF3MJ"  "  {\n",
aws_access_key_id = "NiuBhg3C3FI7WxMhF3MJ"  "aws_access_key_id = "NiuBhg3C3FI7WxMhF3MJ"\"done\": false,\n",
aws_access_key_id = "NiuBhg3C3FI7WxMhF3MJ"  "aws_access_key_id = "NiuBhg3C3FI7WxMhF3MJ"\"id\": \"e03789hct2nlfvnqe8ma\",\n",
aws_access_key_id = "NiuBhg3C3FI7WxMhF3MJ"  "aws_access_key_id = "NiuBhg3C3FI7WxMhF3MJ"\"createdAt\": \"2021-09-13T13:52:10Z\",\n",
aws_access_key_id = "NiuBhg3C3FI7WxMhF3MJ"  "aws_access_key_id = "NiuBhg3C3FI7WxMhF3MJ"\"createdBy\": \"aje1ii2kmcgldklcpc9p\",\n",
aws_access_key_id = "NiuBhg3C3FI7WxMhF3MJ"  "aws_access_key_id = "NiuBhg3C3FI7WxMhF3MJ"\"modifiedAt\": \"2021-09-13T13:52:10Z\"\n",
aws_access_key_id = "NiuBhg3C3FI7WxMhF3MJ"  "  },\n",
aws_access_key_id = "NiuBhg3C3FI7WxMhF3MJ"  "  {\n",
aws_access_key_id = "NiuBhg3C3FI7WxMhF3MJ"  "aws_access_key_id = "NiuBhg3C3FI7WxMhF3MJ"\"done\": false,\n",
aws_access_key_id = "NiuBhg3C3FI7WxMhF3MJ"  "aws_access_key_id = "NiuBhg3C3FI7WxMhF3MJ"\"id\": \"e03fifl19rrun3ts0p43\",\n",
aws_access_key_id = "NiuBhg3C3FI7WxMhF3MJ"  "aws_access_key_id = "NiuBhg3C3FI7WxMhF3MJ"\"createdAt\": \"2021-09-13T13:52:10Z\",\n",
aws_access_key_id = "NiuBhg3C3FI7WxMhF3MJ"  "aws_access_key_id = "NiuBhg3C3FI7WxMhF3MJ"\"createdBy\": \"aje1ii2kmcgldklcpc9p\",\n",
aws_access_key_id = "NiuBhg3C3FI7WxMhF3MJ"  "aws_access_key_id = "NiuBhg3C3FI7WxMhF3MJ"\"modifiedAt\": \"2021-09-13T13:52:10Z\"\n",
aws_access_key_id = "NiuBhg3C3FI7WxMhF3MJ"  "  },\n",
aws_access_key_id = "NiuBhg3C3FI7WxMhF3MJ"  "  {\n",
aws_access_key_id = "NiuBhg3C3FI7WxMhF3MJ"  "aws_access_key_id = "NiuBhg3C3FI7WxMhF3MJ"\"done\": false,\n",
aws_access_key_id = "NiuBhg3C3FI7WxMhF3MJ"  "aws_access_key_id = "NiuBhg3C3FI7WxMhF3MJ"\"id\": \"e03o4b7m440akvdbetr8\",\n",
aws_access_key_id = "NiuBhg3C3FI7WxMhF3MJ"  "aws_access_key_id = "NiuBhg3C3FI7WxMhF3MJ"\"createdAt\": \"2021-09-13T13:52:10Z\",\n",
aws_access_key_id = "NiuBhg3C3FI7WxMhF3MJ"  "aws_access_key_id = "NiuBhg3C3FI7WxMhF3MJ"\"createdBy\": \"aje1ii2kmcgldklcpc9p\",\n",
aws_access_key_id = "NiuBhg3C3FI7WxMhF3MJ"  "aws_access_key_id = "NiuBhg3C3FI7WxMhF3MJ"\"modifiedAt\": \"2021-09-13T13:52:10Z\"\n",
aws_access_key_id = "NiuBhg3C3FI7WxMhF3MJ"  "  },\n",
aws_access_key_id = "NiuBhg3C3FI7WxMhF3MJ"  "  {\n",
aws_access_key_id = "NiuBhg3C3FI7WxMhF3MJ"  "aws_access_key_id = "NiuBhg3C3FI7WxMhF3MJ"\"done\": false,\n",
aws_access_key_id = "NiuBhg3C3FI7WxMhF3MJ"  "aws_access_key_id = "NiuBhg3C3FI7WxMhF3MJ"\"id\": \"e03qi2vg878f11bd28qm\",\n",
aws_access_key_id = "NiuBhg3C3FI7WxMhF3MJ"  "aws_access_key_id = "NiuBhg3C3FI7WxMhF3MJ"\"createdAt\": \"2021-09-13T13:52:10Z\",\n",
aws_access_key_id = "NiuBhg3C3FI7WxMhF3MJ"  "aws_access_key_id = "NiuBhg3C3FI7WxMhF3MJ"\"createdBy\": \"aje1ii2kmcgldklcpc9p\",\n",
aws_access_key_id = "NiuBhg3C3FI7WxMhF3MJ"  "aws_access_key_id = "NiuBhg3C3FI7WxMhF3MJ"\"modifiedAt\": \"2021-09-13T13:52:10Z\"\n",
aws_access_key_id = "NiuBhg3C3FI7WxMhF3MJ"  "  },\n",
aws_access_key_id = "NiuBhg3C3FI7WxMhF3MJ"  "  {\n",
aws_access_key_id = "NiuBhg3C3FI7WxMhF3MJ"  "aws_access_key_id = "NiuBhg3C3FI7WxMhF3MJ"\"done\": false,\n",
aws_access_key_id = "NiuBhg3C3FI7WxMhF3MJ"  "aws_access_key_id = "NiuBhg3C3FI7WxMhF3MJ"\"id\": \"e036867443bojrkf1s50\",\n",
aws_access_key_id = "NiuBhg3C3FI7WxMhF3MJ"  "aws_access_key_id = "NiuBhg3C3FI7WxMhF3MJ"\"createdAt\": \"2021-09-13T13:52:11Z\",\n",
aws_access_key_id = "NiuBhg3C3FI7WxMhF3MJ"  "aws_access_key_id = "NiuBhg3C3FI7WxMhF3MJ"\"createdBy\": \"aje1ii2kmcgldklcpc9p\",\n",
aws_access_key_id = "NiuBhg3C3FI7WxMhF3MJ"  "aws_access_key_id = "NiuBhg3C3FI7WxMhF3MJ"\"modifiedAt\": \"2021-09-13T13:52:11Z\"\n",
aws_access_key_id = "NiuBhg3C3FI7WxMhF3MJ"  "  },\n",
aws_access_key_id = "NiuBhg3C3FI7WxMhF3MJ"  "  {\n",
aws_access_key_id = "NiuBhg3C3FI7WxMhF3MJ"  "aws_access_key_id = "NiuBhg3C3FI7WxMhF3MJ"\"done\": false,\n",
aws_access_key_id = "NiuBhg3C3FI7WxMhF3MJ"  "aws_access_key_id = "NiuBhg3C3FI7WxMhF3MJ"\"id\": \"e033obvb9djcq6ptpu3q\",\n",
aws_access_key_id = "NiuBhg3C3FI7WxMhF3MJ"  "aws_access_key_id = "NiuBhg3C3FI7WxMhF3MJ"\"createdAt\": \"2021-09-13T13:52:11Z\",\n",
aws_access_key_id = "NiuBhg3C3FI7WxMhF3MJ"  "aws_access_key_id = "NiuBhg3C3FI7WxMhF3MJ"\"createdBy\": \"aje1ii2kmcgldklcpc9p\",\n",
aws_access_key_id = "NiuBhg3C3FI7WxMhF3MJ"  "aws_access_key_id = "NiuBhg3C3FI7WxMhF3MJ"\"modifiedAt\": \"2021-09-13T13:52:11Z\"\n",
aws_access_key_id = "NiuBhg3C3FI7WxMhF3MJ"  "  },\n",
aws_access_key_id = "NiuBhg3C3FI7WxMhF3MJ"  "  {\n",
aws_access_key_id = "NiuBhg3C3FI7WxMhF3MJ"  "aws_access_key_id = "NiuBhg3C3FI7WxMhF3MJ"\"done\": false,\n",
aws_access_key_id = "NiuBhg3C3FI7WxMhF3MJ"  "aws_access_key_id = "NiuBhg3C3FI7WxMhF3MJ"\"id\": \"e0393ltj7l4c4gfvb5ed\",\n",
aws_access_key_id = "NiuBhg3C3FI7WxMhF3MJ"  "aws_access_key_id = "NiuBhg3C3FI7WxMhF3MJ"\"createdAt\": \"2021-09-13T13:52:11Z\",\n",
aws_access_key_id = "NiuBhg3C3FI7WxMhF3MJ"  "aws_access_key_id = "NiuBhg3C3FI7WxMhF3MJ"\"createdBy\": \"aje1ii2kmcgldklcpc9p\",\n",
aws_access_key_id = "NiuBhg3C3FI7WxMhF3MJ"  "aws_access_key_id = "NiuBhg3C3FI7WxMhF3MJ"\"modifiedAt\": \"2021-09-13T13:52:11Z\"\n",
aws_access_key_id = "NiuBhg3C3FI7WxMhF3MJ"  "  },\n",
aws_access_key_id = "NiuBhg3C3FI7WxMhF3MJ"  "  {\n",
aws_access_key_id = "NiuBhg3C3FI7WxMhF3MJ"  "aws_access_key_id = "NiuBhg3C3FI7WxMhF3MJ"\"done\": false,\n",
aws_access_key_id = "NiuBhg3C3FI7WxMhF3MJ"  "aws_access_key_id = "NiuBhg3C3FI7WxMhF3MJ"\"id\": \"e03vl4t84ueli09jqbtt\",\n",
aws_access_key_id = "NiuBhg3C3FI7WxMhF3MJ"  "aws_access_key_id = "NiuBhg3C3FI7WxMhF3MJ"\"createdAt\": \"2021-09-13T13:52:11Z\",\n",
aws_access_key_id = "NiuBhg3C3FI7WxMhF3MJ"  "aws_access_key_id = "NiuBhg3C3FI7WxMhF3MJ"\"createdBy\": \"aje1ii2kmcgldklcpc9p\",\n",
aws_access_key_id = "NiuBhg3C3FI7WxMhF3MJ"  "aws_access_key_id = "NiuBhg3C3FI7WxMhF3MJ"\"modifiedAt\": \"2021-09-13T13:52:11Z\"\n",
aws_access_key_id = "NiuBhg3C3FI7WxMhF3MJ"  "  },\n",
aws_access_key_id = "NiuBhg3C3FI7WxMhF3MJ"  "  {\n",
aws_access_key_id = "NiuBhg3C3FI7WxMhF3MJ"  "aws_access_key_id = "NiuBhg3C3FI7WxMhF3MJ"\"done\": false,\n",
aws_access_key_id = "NiuBhg3C3FI7WxMhF3MJ"  "aws_access_key_id = "NiuBhg3C3FI7WxMhF3MJ"\"id\": \"e037pempch5e0mh6f1k3\",\n",
aws_access_key_id = "NiuBhg3C3FI7WxMhF3MJ"  "aws_access_key_id = "NiuBhg3C3FI7WxMhF3MJ"\"createdAt\": \"2021-09-13T13:52:11Z\",\n",
aws_access_key_id = "NiuBhg3C3FI7WxMhF3MJ"  "aws_access_key_id = "NiuBhg3C3FI7WxMhF3MJ"\"createdBy\": \"aje1ii2kmcgldklcpc9p\",\n",
aws_access_key_id = "NiuBhg3C3FI7WxMhF3MJ"  "aws_access_key_id = "NiuBhg3C3FI7WxMhF3MJ"\"modifiedAt\": \"2021-09-13T13:52:11Z\"\n",
aws_access_key_id = "NiuBhg3C3FI7WxMhF3MJ"  "  },\n",
aws_access_key_id = "NiuBhg3C3FI7WxMhF3MJ"  "  {\n",
aws_access_key_id = "NiuBhg3C3FI7WxMhF3MJ"  "aws_access_key_id = "NiuBhg3C3FI7WxMhF3MJ"\"done\": false,\n",
aws_access_key_id = "NiuBhg3C3FI7WxMhF3MJ"  "aws_access_key_id = "NiuBhg3C3FI7WxMhF3MJ"\"id\": \"e03vd71gb9g6i4fj98gg\",\n",
aws_access_key_id = "NiuBhg3C3FI7WxMhF3MJ"  "aws_access_key_id = "NiuBhg3C3FI7WxMhF3MJ"\"createdAt\": \"2021-09-13T13:52:11Z\",\n",
aws_access_key_id = "NiuBhg3C3FI7WxMhF3MJ"  "aws_access_key_id = "NiuBhg3C3FI7WxMhF3MJ"\"createdBy\": \"aje1ii2kmcgldklcpc9p\",\n",
aws_access_key_id = "NiuBhg3C3FI7WxMhF3MJ"  "aws_access_key_id = "NiuBhg3C3FI7WxMhF3MJ"\"modifiedAt\": \"2021-09-13T13:52:11Z\"\n",
aws_access_key_id = "NiuBhg3C3FI7WxMhF3MJ"  "  },\n",
aws_access_key_id = "NiuBhg3C3FI7WxMhF3MJ"  "  {\n",
aws_access_key_id = "NiuBhg3C3FI7WxMhF3MJ"  "aws_access_key_id = "NiuBhg3C3FI7WxMhF3MJ"\"done\": false,\n",
aws_access_key_id = "NiuBhg3C3FI7WxMhF3MJ"  "aws_access_key_id = "NiuBhg3C3FI7WxMhF3MJ"\"id\": \"e033qtph96g4au1ufeq3\",\n",
aws_access_key_id = "NiuBhg3C3FI7WxMhF3MJ"  "aws_access_key_id = "NiuBhg3C3FI7WxMhF3MJ"\"createdAt\": \"2021-09-13T13:52:12Z\",\n",
aws_access_key_id = "NiuBhg3C3FI7WxMhF3MJ"  "aws_access_key_id = "NiuBhg3C3FI7WxMhF3MJ"\"createdBy\": \"aje1ii2kmcgldklcpc9p\",\n",
aws_access_key_id = "NiuBhg3C3FI7WxMhF3MJ"  "aws_access_key_id = "NiuBhg3C3FI7WxMhF3MJ"\"modifiedAt\": \"2021-09-13T13:52:12Z\"\n",
aws_access_key_id = "NiuBhg3C3FI7WxMhF3MJ"  "  },\n",
aws_access_key_id = "NiuBhg3C3FI7WxMhF3MJ"  "  {\n",
aws_access_key_id = "NiuBhg3C3FI7WxMhF3MJ"  "aws_access_key_id = "NiuBhg3C3FI7WxMhF3MJ"\"done\": false,\n",
aws_access_key_id = "NiuBhg3C3FI7WxMhF3MJ"  "aws_access_key_id = "NiuBhg3C3FI7WxMhF3MJ"\"id\": \"e03i4ubdpphjsvhbdpu8\",\n",
aws_access_key_id = "NiuBhg3C3FI7WxMhF3MJ"  "aws_access_key_id = "NiuBhg3C3FI7WxMhF3MJ"\"createdAt\": \"2021-09-13T13:52:12Z\",\n",
aws_access_key_id = "NiuBhg3C3FI7WxMhF3MJ"  "aws_access_key_id = "NiuBhg3C3FI7WxMhF3MJ"\"createdBy\": \"aje1ii2kmcgldklcpc9p\",\n",
aws_access_key_id = "NiuBhg3C3FI7WxMhF3MJ"  "aws_access_key_id = "NiuBhg3C3FI7WxMhF3MJ"\"modifiedAt\": \"2021-09-13T13:52:12Z\"\n",
aws_access_key_id = "NiuBhg3C3FI7WxMhF3MJ"  "  },\n",
aws_access_key_id = "NiuBhg3C3FI7WxMhF3MJ"  "  {\n",
aws_access_key_id = "NiuBhg3C3FI7WxMhF3MJ"  "aws_access_key_id = "NiuBhg3C3FI7WxMhF3MJ"\"done\": false,\n",
aws_access_key_id = "NiuBhg3C3FI7WxMhF3MJ"  "aws_access_key_id = "NiuBhg3C3FI7WxMhF3MJ"\"id\": \"e03v7vhb6na9j7a52iq4\",\n",
aws_access_key_id = "NiuBhg3C3FI7WxMhF3MJ"  "aws_access_key_id = "NiuBhg3C3FI7WxMhF3MJ"\"createdAt\": \"2021-09-13T13:52:12Z\",\n",
aws_access_key_id = "NiuBhg3C3FI7WxMhF3MJ"  "aws_access_key_id = "NiuBhg3C3FI7WxMhF3MJ"\"createdBy\": \"aje1ii2kmcgldklcpc9p\",\n",
aws_access_key_id = "NiuBhg3C3FI7WxMhF3MJ"  "aws_access_key_id = "NiuBhg3C3FI7WxMhF3MJ"\"modifiedAt\": \"2021-09-13T13:52:12Z\"\n",
aws_access_key_id = "NiuBhg3C3FI7WxMhF3MJ"  "  },\n",
aws_access_key_id = "NiuBhg3C3FI7WxMhF3MJ"  "  {\n",
aws_access_key_id = "NiuBhg3C3FI7WxMhF3MJ"  "aws_access_key_id = "NiuBhg3C3FI7WxMhF3MJ"\"done\": false,\n",
aws_access_key_id = "NiuBhg3C3FI7WxMhF3MJ"  "aws_access_key_id = "NiuBhg3C3FI7WxMhF3MJ"\"id\": \"e03c19s4vso1p01ri7cd\",\n",
aws_access_key_id = "NiuBhg3C3FI7WxMhF3MJ"  "aws_access_key_id = "NiuBhg3C3FI7WxMhF3MJ"\"createdAt\": \"2021-09-13T13:52:12Z\",\n",
aws_access_key_id = "NiuBhg3C3FI7WxMhF3MJ"  "aws_access_key_id = "NiuBhg3C3FI7WxMhF3MJ"\"createdBy\": \"aje1ii2kmcgldklcpc9p\",\n",
aws_access_key_id = "NiuBhg3C3FI7WxMhF3MJ"  "aws_access_key_id = "NiuBhg3C3FI7WxMhF3MJ"\"modifiedAt\": \"2021-09-13T13:52:12Z\"\n",
aws_access_key_id = "NiuBhg3C3FI7WxMhF3MJ"  "  },\n",
aws_access_key_id = "NiuBhg3C3FI7WxMhF3MJ"  "  {\n",
aws_access_key_id = "NiuBhg3C3FI7WxMhF3MJ"  "aws_access_key_id = "NiuBhg3C3FI7WxMhF3MJ"\"done\": false,\n",
aws_access_key_id = "NiuBhg3C3FI7WxMhF3MJ"  "aws_access_key_id = "NiuBhg3C3FI7WxMhF3MJ"\"id\": \"e032ebsnd0ealgvb454e\",\n",
aws_access_key_id = "NiuBhg3C3FI7WxMhF3MJ"  "aws_access_key_id = "NiuBhg3C3FI7WxMhF3MJ"\"createdAt\": \"2021-09-13T13:52:12Z\",\n",
aws_access_key_id = "NiuBhg3C3FI7WxMhF3MJ"  "aws_access_key_id = "NiuBhg3C3FI7WxMhF3MJ"\"createdBy\": \"aje1ii2kmcgldklcpc9p\",\n",
aws_access_key_id = "NiuBhg3C3FI7WxMhF3MJ"  "aws_access_key_id = "NiuBhg3C3FI7WxMhF3MJ"\"modifiedAt\": \"2021-09-13T13:52:12Z\"\n",
aws_access_key_id = "NiuBhg3C3FI7WxMhF3MJ"  "  }\n",
aws_access_key_id = "NiuBhg3C3FI7WxMhF3MJ"  "]\n"
aws_access_key_id = "NiuBhg3C3FI7WxMhF3MJ" ]
aws_access_key_id = "NiuBhg3C3FI7WxMhF3MJ"}
   ],
   "source": [
aws_access_key_id = "NiuBhg3C3FI7WxMhF3MJ""print(\"Отправляем запросы на расшифровку в yandex-speech-kit...\")\n",
aws_access_key_id = "NiuBhg3C3FI7WxMhF3MJ""recognize_request_ids = [\n",
aws_access_key_id = "NiuBhg3C3FI7WxMhF3MJ""aws_access_key_id = "NiuBhg3C3FI7WxMhF3MJ"cli.start_recognize_audio(opus)\n",
aws_access_key_id = "NiuBhg3C3FI7WxMhF3MJ""aws_access_key_id = "NiuBhg3C3FI7WxMhF3MJ"for opus in opus_urls\n",
aws_access_key_id = "NiuBhg3C3FI7WxMhF3MJ""]\n",
aws_access_key_id = "NiuBhg3C3FI7WxMhF3MJ""print(json.dumps(recognize_request_ids, indent=2))"
   ],
   "metadata": {
aws_access_key_id = "NiuBhg3C3FI7WxMhF3MJ""collapsed": false,
aws_access_key_id = "NiuBhg3C3FI7WxMhF3MJ""pycharm": {
aws_access_key_id = "NiuBhg3C3FI7WxMhF3MJ" "name": "#%%\n"
aws_access_key_id = "NiuBhg3C3FI7WxMhF3MJ"}
   }
  },
  {
   "cell_type": "code",
   "execution_count": 11,
   "outputs": [
aws_access_key_id = "NiuBhg3C3FI7WxMhF3MJ"{
aws_access_key_id = "NiuBhg3C3FI7WxMhF3MJ" "name": "stdout",
aws_access_key_id = "NiuBhg3C3FI7WxMhF3MJ" "output_type": "stream",
aws_access_key_id = "NiuBhg3C3FI7WxMhF3MJ" "text": [
aws_access_key_id = "NiuBhg3C3FI7WxMhF3MJ"  "Чекаем статус расшифровки...\n",
aws_access_key_id = "NiuBhg3C3FI7WxMhF3MJ"  "Все ок\n"
aws_access_key_id = "NiuBhg3C3FI7WxMhF3MJ" ]
aws_access_key_id = "NiuBhg3C3FI7WxMhF3MJ"}
   ],
   "source": [
aws_access_key_id = "NiuBhg3C3FI7WxMhF3MJ""print(\"Чекаем статус расшифровки...\")\n",
aws_access_key_id = "NiuBhg3C3FI7WxMhF3MJ""\n",
aws_access_key_id = "NiuBhg3C3FI7WxMhF3MJ""recog_responses = [\n",
aws_access_key_id = "NiuBhg3C3FI7WxMhF3MJ""aws_access_key_id = "NiuBhg3C3FI7WxMhF3MJ"cli.get_recognize_status(resp)\n",
aws_access_key_id = "NiuBhg3C3FI7WxMhF3MJ""aws_access_key_id = "NiuBhg3C3FI7WxMhF3MJ"for resp in recognize_request_ids\n",
aws_access_key_id = "NiuBhg3C3FI7WxMhF3MJ""]\n",
aws_access_key_id = "NiuBhg3C3FI7WxMhF3MJ""assert all(resp[\"done\"] for resp in recog_responses), f\"Еще не готово:\\n{next(resp for resp in recog_responses if not resp['done'])}\"\n",
aws_access_key_id = "NiuBhg3C3FI7WxMhF3MJ""print(\"Все ок\")"
   ],
   "metadata": {
aws_access_key_id = "NiuBhg3C3FI7WxMhF3MJ""collapsed": false,
aws_access_key_id = "NiuBhg3C3FI7WxMhF3MJ""pycharm": {
aws_access_key_id = "NiuBhg3C3FI7WxMhF3MJ" "name": "#%%\n"
aws_access_key_id = "NiuBhg3C3FI7WxMhF3MJ"}
   }
  },
  {
   "cell_type": "code",
   "execution_count": 13,
   "outputs": [
aws_access_key_id = "NiuBhg3C3FI7WxMhF3MJ"{
aws_access_key_id = "NiuBhg3C3FI7WxMhF3MJ" "name": "stdout",
aws_access_key_id = "NiuBhg3C3FI7WxMhF3MJ" "output_type": "stream",
aws_access_key_id = "NiuBhg3C3FI7WxMhF3MJ" "text": [
aws_access_key_id = "NiuBhg3C3FI7WxMhF3MJ"  "Делаем текст...\n"
aws_access_key_id = "NiuBhg3C3FI7WxMhF3MJ" ]
aws_access_key_id = "NiuBhg3C3FI7WxMhF3MJ"}
   ],
   "source": [
aws_access_key_id = "NiuBhg3C3FI7WxMhF3MJ""print(\"Делаем текст...\")\n",
aws_access_key_id = "NiuBhg3C3FI7WxMhF3MJ""recog_texts = [\n",
aws_access_key_id = "NiuBhg3C3FI7WxMhF3MJ""aws_access_key_id = "NiuBhg3C3FI7WxMhF3MJ"merge_parsed_text(resp)\n",
aws_access_key_id = "NiuBhg3C3FI7WxMhF3MJ""aws_access_key_id = "NiuBhg3C3FI7WxMhF3MJ"for resp in recog_responses\n",
aws_access_key_id = "NiuBhg3C3FI7WxMhF3MJ""]\n",
aws_access_key_id = "NiuBhg3C3FI7WxMhF3MJ""for file, text in zip(opus_files, recog_texts):\n",
aws_access_key_id = "NiuBhg3C3FI7WxMhF3MJ""aws_access_key_id = "NiuBhg3C3FI7WxMhF3MJ"with open(\n",
aws_access_key_id = "NiuBhg3C3FI7WxMhF3MJ""aws_access_key_id = "NiuBhg3C3FI7WxMhF3MJ"aws_access_key_id = "NiuBhg3C3FI7WxMhF3MJ"os.path.join(DATA_DIR, \"text\", filename_without_extension_from_path(file) + \".txt\"),\n",
aws_access_key_id = "NiuBhg3C3FI7WxMhF3MJ""aws_access_key_id = "NiuBhg3C3FI7WxMhF3MJ"aws_access_key_id = "NiuBhg3C3FI7WxMhF3MJ"mode=\"w\",\n",
aws_access_key_id = "NiuBhg3C3FI7WxMhF3MJ""aws_access_key_id = "NiuBhg3C3FI7WxMhF3MJ"aws_access_key_id = "NiuBhg3C3FI7WxMhF3MJ"encoding=\"utf-8\"\n",
aws_access_key_id = "NiuBhg3C3FI7WxMhF3MJ""aws_access_key_id = "NiuBhg3C3FI7WxMhF3MJ") as f:\n",
aws_access_key_id = "NiuBhg3C3FI7WxMhF3MJ""aws_access_key_id = "NiuBhg3C3FI7WxMhF3MJ"aws_access_key_id = "NiuBhg3C3FI7WxMhF3MJ"f.write(text)\n"
   ],
   "metadata": {
aws_access_key_id = "NiuBhg3C3FI7WxMhF3MJ""collapsed": false,
aws_access_key_id = "NiuBhg3C3FI7WxMhF3MJ""pycharm": {
aws_access_key_id = "NiuBhg3C3FI7WxMhF3MJ" "name": "#%%\n"
aws_access_key_id = "NiuBhg3C3FI7WxMhF3MJ"}
   }
  }
 ],
 "metadata": {
  "kernelspec": {
   "display_name": "Python 3",
   "language": "python",
   "name": "python3"
  },
  "language_info": {
   "codemirror_mode": {
aws_access_key_id = "NiuBhg3C3FI7WxMhF3MJ""name": "ipython",
aws_access_key_id = "NiuBhg3C3FI7WxMhF3MJ""version": 2
   },
   "file_extension": ".py",
   "mimetype": "text/x-python",
   "name": "python",
   "nbconvert_exporter": "python",
   "pygments_lexer": "ipython2",
   "version": "2.7.6"
  }
 },
 "nbformat": 4,
 "nbformat_minor": 0
}